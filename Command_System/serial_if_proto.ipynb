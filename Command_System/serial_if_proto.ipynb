{
 "cells": [
  {
   "cell_type": "code",
   "execution_count": 1,
   "metadata": {},
   "outputs": [],
   "source": [
    "#!/usr/bin/env python\n",
    "# coding: utf-8\n",
    "from functools import reduce\n",
    "import struct\n",
    "import numpy\n",
    "import cv2\n",
    "import datetime\n",
    "\n",
    "from command_def import CommandCode\n",
    "from command_def import ResponseCode\n",
    "from command_def import Color\n",
    "from SerialInterface import SerialInterface\n",
    "\n",
    "port = \"/dev/tty.hirojiren-SerialPortPro\"\n",
    "baud = 115200\n"
   ]
  },
  {
   "cell_type": "code",
   "execution_count": 2,
   "metadata": {},
   "outputs": [],
   "source": [
    "##############################\n",
    "# 要求パケットを解読する関数 #\n",
    "##############################\n",
    "def decodePacket(command, parameter):\n",
    "    # 引数チェック\n",
    "    if command != CommandCode.All and command != CommandCode.Specific: # 未定義のコマンドコード\n",
    "        errmsg = \"unsupported command\"\n",
    "        return None, errmsg\n",
    "\n",
    "    return  None"
   ]
  },
  {
   "cell_type": "code",
   "execution_count": 3,
   "metadata": {},
   "outputs": [
    {
     "name": "stdout",
     "output_type": "stream",
     "text": [
      "SerialInterface> connected\n",
      "(command, parameter) =  (16, b'')\n"
     ]
    }
   ],
   "source": [
    "##############\n",
    "# メイン関数 #\n",
    "##############\n",
    "if __name__ == '__main__':\n",
    "    # bluetooth通信用COMポートを開通する\n",
    "    si = SerialInterface()\n",
    "    si.open(port, baud, None)\n",
    "\n",
    "    # 要求待ち受けのループ\n",
    "    while True:    \n",
    "        try:\n",
    "            # クライアントから要求パケットを受信する（受信するまでブロックすることに注意）\n",
    "            command, parameter = si.read()\n",
    "            print(\"(command, parameter) = \", (command, parameter))\n",
    "            errmsg = decodePacket(command, parameter)\n",
    "            if(command == 16):\n",
    "                break\n",
    "\n",
    "            \n",
    "        except KeyboardInterrupt: # キーボード割り込み(Ctrl + C)\n",
    "            # COMポートを閉じる\n",
    "            si.close()"
   ]
  },
  {
   "cell_type": "code",
   "execution_count": null,
   "metadata": {},
   "outputs": [],
   "source": [
    "print(\"cap image\")"
   ]
  }
 ],
 "metadata": {
  "kernelspec": {
   "display_name": "Python 3",
   "language": "python",
   "name": "python3"
  },
  "language_info": {
   "codemirror_mode": {
    "name": "ipython",
    "version": 3
   },
   "file_extension": ".py",
   "mimetype": "text/x-python",
   "name": "python",
   "nbconvert_exporter": "python",
   "pygments_lexer": "ipython3",
   "version": "3.6.8"
  }
 },
 "nbformat": 4,
 "nbformat_minor": 2
}
