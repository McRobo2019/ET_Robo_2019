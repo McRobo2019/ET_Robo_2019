{
 "cells": [
  {
   "cell_type": "code",
   "execution_count": 1,
   "metadata": {},
   "outputs": [],
   "source": [
    "from functools import reduce\n",
    "import struct\n",
    "import numpy as np\n",
    "import cv2\n",
    "import datetime\n",
    "#import helpers # helper functions\n",
    "import os\n",
    "import glob # library for loading images from a directory  \n",
    "import matplotlib.pyplot as plt\n",
    "import matplotlib.image as mpimg\n",
    "\n",
    "\n"
   ]
  },
  {
   "cell_type": "code",
   "execution_count": 2,
   "metadata": {},
   "outputs": [
    {
     "ename": "error",
     "evalue": "OpenCV(3.4.2) /opt/concourse/worker/volumes/live/9523d527-1b9e-48e0-7ed0-a36adde286f0/volume/opencv-suite_1535558719691/work/modules/highgui/src/window.cpp:356: error: (-215:Assertion failed) size.width>0 && size.height>0 in function 'imshow'\n",
     "output_type": "error",
     "traceback": [
      "\u001b[0;31m---------------------------------------------------------------------------\u001b[0m",
      "\u001b[0;31merror\u001b[0m                                     Traceback (most recent call last)",
      "\u001b[0;32m<ipython-input-2-0fd34353bb0b>\u001b[0m in \u001b[0;36m<module>\u001b[0;34m\u001b[0m\n\u001b[1;32m     39\u001b[0m   \u001b[0;31m#  del mouseData\u001b[0m\u001b[0;34m\u001b[0m\u001b[0;34m\u001b[0m\u001b[0;34m\u001b[0m\u001b[0m\n\u001b[1;32m     40\u001b[0m \u001b[0;34m\u001b[0m\u001b[0m\n\u001b[0;32m---> 41\u001b[0;31m \u001b[0mcap_image\u001b[0m\u001b[0;34m(\u001b[0m\u001b[0;34m)\u001b[0m\u001b[0;34m\u001b[0m\u001b[0;34m\u001b[0m\u001b[0m\n\u001b[0m",
      "\u001b[0;32m<ipython-input-2-0fd34353bb0b>\u001b[0m in \u001b[0;36mcap_image\u001b[0;34m()\u001b[0m\n\u001b[1;32m     27\u001b[0m \u001b[0;34m\u001b[0m\u001b[0m\n\u001b[1;32m     28\u001b[0m         \u001b[0;31m# フレームを表示する\u001b[0m\u001b[0;34m\u001b[0m\u001b[0;34m\u001b[0m\u001b[0;34m\u001b[0m\u001b[0m\n\u001b[0;32m---> 29\u001b[0;31m         \u001b[0mcv2\u001b[0m\u001b[0;34m.\u001b[0m\u001b[0mimshow\u001b[0m\u001b[0;34m(\u001b[0m\u001b[0mWINDOW_NAME\u001b[0m\u001b[0;34m,\u001b[0m \u001b[0mimg\u001b[0m\u001b[0;34m)\u001b[0m\u001b[0;34m\u001b[0m\u001b[0;34m\u001b[0m\u001b[0m\n\u001b[0m\u001b[1;32m     30\u001b[0m         \u001b[0mkey\u001b[0m \u001b[0;34m=\u001b[0m \u001b[0mcv2\u001b[0m\u001b[0;34m.\u001b[0m\u001b[0mwaitKey\u001b[0m\u001b[0;34m(\u001b[0m\u001b[0;36m1\u001b[0m\u001b[0;34m)\u001b[0m\u001b[0;34m&\u001b[0m\u001b[0;36m0xff\u001b[0m\u001b[0;34m\u001b[0m\u001b[0;34m\u001b[0m\u001b[0m\n\u001b[1;32m     31\u001b[0m \u001b[0;34m\u001b[0m\u001b[0m\n",
      "\u001b[0;31merror\u001b[0m: OpenCV(3.4.2) /opt/concourse/worker/volumes/live/9523d527-1b9e-48e0-7ed0-a36adde286f0/volume/opencv-suite_1535558719691/work/modules/highgui/src/window.cpp:356: error: (-215:Assertion failed) size.width>0 && size.height>0 in function 'imshow'\n"
     ]
    }
   ],
   "source": [
    "def cap_image():\n",
    "    # Raspberry Pi3（Webサーバ）のURL\n",
    "    # http://(Raspberry Pi3のIPアドレス)/?action=stream\n",
    "    URL = \"http://192.168.11.100/?action=stream\"\n",
    "    \n",
    "    # VideoCaptureのインスタンスを作成する。\n",
    "    cap = cv2.VideoCapture(URL)\n",
    "    # カメラFPSを30FPSに設定\n",
    "    cap.set(cv2.CAP_PROP_FPS, 30)\n",
    "    # カメラ画像の横幅を1280に設定\n",
    "    cap.set(cv2.CAP_PROP_FRAME_WIDTH, 1280)\n",
    "    # カメラ画像の縦幅を720に設定\n",
    "    cap.set(cv2.CAP_PROP_FRAME_HEIGHT, 720)\n",
    "    # 表示するWindow名を設定\n",
    "    WINDOW_NAME = \"camera\"\n",
    "    cv2.namedWindow(WINDOW_NAME)\n",
    "    \n",
    "    while cap.isOpened():\n",
    "        ret, img = cap.read()\n",
    "\n",
    "        #guid for calibration\n",
    "        circle_size = 20\n",
    "        cv2.circle(img,(232, 264), circle_size, (255,0,0), -1)#LU of block area\n",
    "        cv2.circle(img,(646, 65), circle_size, (255,0,0), -1)  #RU of block area\n",
    "        cv2.circle(img,(1214, 148), circle_size, (255,0,0), -1)  #LL of block area\n",
    "        cv2.circle(img,(1124, 520), circle_size, (255,0,0), -1)  #RL of block area\n",
    "            \n",
    "        # フレームを表示する\n",
    "        cv2.imshow(WINDOW_NAME, img)\n",
    "        key = cv2.waitKey(1)&0xff\n",
    "        \n",
    "        if key == ord('q'):\n",
    "            \n",
    "            break\n",
    "        \n",
    "\n",
    "    cap.release()\n",
    "    cv2.destroyAllWindows()\n",
    "  #  del mouseData\n",
    "\n",
    "cap_image()\n"
   ]
  }
 ],
 "metadata": {
  "kernelspec": {
   "display_name": "Python 3",
   "language": "python",
   "name": "python3"
  }
 },
 "nbformat": 4,
 "nbformat_minor": 2
}
