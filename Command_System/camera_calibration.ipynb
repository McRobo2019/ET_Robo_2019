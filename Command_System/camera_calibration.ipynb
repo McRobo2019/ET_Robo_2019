{
 "cells": [
  {
   "cell_type": "code",
   "execution_count": 1,
   "metadata": {},
   "outputs": [],
   "source": [
    "from functools import reduce\n",
    "import struct\n",
    "import numpy as np\n",
    "import cv2\n",
    "import datetime\n",
    "#import helpers # helper functions\n",
    "import os\n",
    "import glob # library for loading images from a directory  \n",
    "import matplotlib.pyplot as plt\n",
    "import matplotlib.image as mpimg\n",
    "\n",
    "\n"
   ]
  },
  {
   "cell_type": "code",
   "execution_count": null,
   "metadata": {},
   "outputs": [],
   "source": [
    "def cap_image():\n",
    "    # Raspberry Pi3（Webサーバ）のURL\n",
    "    # http://(Raspberry Pi3のIPアドレス)/?action=stream\n",
    "    URL = \"http://192.168.11.100/?action=stream\"\n",
    "    \n",
    "    # VideoCaptureのインスタンスを作成する。\n",
    "    cap = cv2.VideoCapture(URL)\n",
    "    # カメラFPSを30FPSに設定\n",
    "    cap.set(cv2.CAP_PROP_FPS, 30)\n",
    "    # カメラ画像の横幅を1280に設定\n",
    "    cap.set(cv2.CAP_PROP_FRAME_WIDTH, 1280)\n",
    "    # カメラ画像の縦幅を720に設定\n",
    "    cap.set(cv2.CAP_PROP_FRAME_HEIGHT, 720)\n",
    "    # 表示するWindow名を設定\n",
    "    WINDOW_NAME = \"camera\"\n",
    "    cv2.namedWindow(WINDOW_NAME)\n",
    "    \n",
    "    while cap.isOpened():\n",
    "        ret, img = cap.read()\n",
    "\n",
    "        #guid for calibration\n",
    "        circle_size = 20\n",
    "        cv2.circle(img,(148, 286), circle_size, (255,0,0), -1) #RU of number area\n",
    "        cv2.circle(img,(135, 628), circle_size, (255,0,0), -1)#LL of number area\n",
    "\n",
    "        cv2.circle(img,(420, 420), circle_size, (255,0,0), -1)#RL of number area\n",
    "        cv2.circle(img,(205, 212), circle_size, (255,0,0), -1)#LU of block area\n",
    "        cv2.circle(img,(650, 25), circle_size, (255,0,0), -1)  #RU of block area\n",
    "        cv2.circle(img,(1030, 516), circle_size, (255,0,0), -1)  #LL of block area\n",
    "        cv2.circle(img,(1212, 140), circle_size, (255,0,0), -1)  #RL of block area\n",
    "\n",
    "            \n",
    "        # フレームを表示する\n",
    "        cv2.imshow(WINDOW_NAME, img)\n",
    "        key = cv2.waitKey(1)&0xff\n",
    "        \n",
    "        if key == ord('q'):\n",
    "            \n",
    "            break\n",
    "        \n",
    "\n",
    "    cap.release()\n",
    "    cv2.destroyAllWindows()\n",
    "  #  del mouseData\n",
    "\n",
    "cap_image()\n"
   ]
  }
 ],
 "metadata": {
  "kernelspec": {
   "display_name": "Python 3",
   "language": "python",
   "name": "python3"
  },
  "language_info": {
   "codemirror_mode": {
    "name": "ipython",
    "version": 3
   },
   "file_extension": ".py",
   "mimetype": "text/x-python",
   "name": "python",
   "nbconvert_exporter": "python",
   "pygments_lexer": "ipython3",
   "version": "3.6.8"
  }
 },
 "nbformat": 4,
 "nbformat_minor": 2
}
