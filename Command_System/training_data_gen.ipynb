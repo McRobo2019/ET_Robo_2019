{
 "cells": [
  {
   "cell_type": "code",
   "execution_count": 26,
   "metadata": {},
   "outputs": [],
   "source": [
    "#import serial\n",
    "#import time\n",
    "#ser = serial.Serial('/dev/tty.hirojiren-SerialPortPro', 115200, timeout=None)\n",
    "\n"
   ]
  },
  {
   "cell_type": "code",
   "execution_count": 27,
   "metadata": {},
   "outputs": [],
   "source": [
    "#ser.write(b\"1\")\n",
    "##time.sleep(0.2)\n",
    "#line = ser.read(2)\n",
    "#print(line)"
   ]
  },
  {
   "cell_type": "code",
   "execution_count": 28,
   "metadata": {},
   "outputs": [],
   "source": [
    "#ser.write(b\"3\")\n",
    "#line = ser.read(20)\n",
    "#print(line)"
   ]
  },
  {
   "cell_type": "code",
   "execution_count": 29,
   "metadata": {},
   "outputs": [],
   "source": [
    "#ser.close()"
   ]
  },
  {
   "cell_type": "code",
   "execution_count": 30,
   "metadata": {},
   "outputs": [],
   "source": [
    "import image_processing\n",
    "import matplotlib.pyplot as plt\n",
    "import cv2\n",
    "import numpy as np\n",
    "import datetime"
   ]
  },
  {
   "cell_type": "code",
   "execution_count": 31,
   "metadata": {},
   "outputs": [],
   "source": [
    "IMAGE_DIR   = \"image_fukuyama/\"\n",
    "image_list = image_processing.load_image_set(IMAGE_DIR)\n",
    "image = image_list[1]\n",
    "\n"
   ]
  },
  {
   "cell_type": "code",
   "execution_count": 32,
   "metadata": {},
   "outputs": [],
   "source": [
    "img_psp = image_processing.persipective_image(image)\n",
    "masked_image = image_processing.masked_image(img_psp)\n",
    "block_img = []\n",
    "num_img, block_img = image_processing.triming_image(masked_image)"
   ]
  },
  {
   "cell_type": "code",
   "execution_count": 49,
   "metadata": {},
   "outputs": [
    {
     "name": "stdout",
     "output_type": "stream",
     "text": [
      "block_image/block_0901_085817_01.jpg\n",
      "block_image/snapshot_0901_085817.jpg\n"
     ]
    }
   ],
   "source": [
    "#print('block_image/snapshot_{0:%Y%m%d_%H%M%S}.jpg'.format(datetime.datetime.now()))\n",
    "filename = 'block_image/block_{0:%d_%H%M%S}_0'.format(datetime.datetime.now())\n",
    "filename = filename + str(1)+'.jpg'\n",
    "print(filename)\n",
    "print('block_image/snapshot_{0:%m%d_%H%M%S}.jpg'.format(datetime.datetime.now()))\n",
    "\n",
    "#for i in range(24):\n",
    "#cv2.imwrite('block_image/snapshot_{0:%Y%m%d_%H%M%S}'i'.jpg'.format(datetime.datetime.now()), block_img[i])"
   ]
  },
  {
   "cell_type": "code",
   "execution_count": null,
   "metadata": {},
   "outputs": [],
   "source": []
  },
  {
   "cell_type": "code",
   "execution_count": null,
   "metadata": {},
   "outputs": [],
   "source": []
  },
  {
   "cell_type": "code",
   "execution_count": null,
   "metadata": {},
   "outputs": [],
   "source": []
  },
  {
   "cell_type": "code",
   "execution_count": null,
   "metadata": {},
   "outputs": [],
   "source": [
    "#plot triming and standardized image\n",
    "plt.imshow(num_img, plt.cm.gray)\n",
    "\n",
    "\n",
    "f, (ax1, ax2, ax3, ax4) = plt.subplots(1, 4, figsize=(5,5))\n",
    "ax1.set_title('node_00')\n",
    "ax1.imshow(block_img[0])\n",
    "ax2.set_title('node_01')\n",
    "ax2.imshow(block_img[1])\n",
    "ax3.set_title('node_02')\n",
    "ax3.imshow(block_img[2])\n",
    "ax4.set_title('node_03')\n",
    "ax4.imshow(block_img[3])\n",
    "\n",
    "f, (ax1, ax2, ax3) = plt.subplots(1, 3, figsize=(5,5))\n",
    "ax1.set_title('node_04')\n",
    "ax1.imshow(block_img[4])\n",
    "ax2.set_title('node_05')\n",
    "ax2.imshow(block_img[5])\n",
    "ax3.set_title('node_06')\n",
    "ax3.imshow(block_img[6])\n",
    "\n",
    "f, (ax1, ax2, ax3, ax4) = plt.subplots(1, 4, figsize=(5,5))\n",
    "ax1.set_title('node_07')\n",
    "ax1.imshow(block_img[7])\n",
    "ax2.set_title('node_08')\n",
    "ax2.imshow(block_img[8])\n",
    "ax3.set_title('node_09')\n",
    "ax3.imshow(block_img[9])\n",
    "ax4.set_title('node_10')\n",
    "ax4.imshow(block_img[10])\n",
    "\n",
    "f, (ax1, ax2) = plt.subplots(1, 2, figsize=(3,3))\n",
    "ax1.set_title('node_11')\n",
    "ax1.imshow(block_img[11])\n",
    "ax2.set_title('node_12')\n",
    "ax2.imshow(block_img[12])\n",
    "\n",
    "f, (ax1, ax2, ax3, ax4) = plt.subplots(1, 4, figsize=(5,5))\n",
    "ax1.set_title('node_13')\n",
    "ax1.imshow(block_img[13])\n",
    "ax2.set_title('node_14')\n",
    "ax2.imshow(block_img[14])\n",
    "ax3.set_title('node_15')\n",
    "ax3.imshow(block_img[15])\n",
    "ax4.set_title('node_16')\n",
    "ax4.imshow(block_img[16])\n",
    "\n",
    "f, (ax1, ax2, ax3) = plt.subplots(1, 3, figsize=(5,5))\n",
    "ax1.set_title('node_17')\n",
    "ax1.imshow(block_img[17])\n",
    "ax2.set_title('node_18')\n",
    "ax2.imshow(block_img[18])\n",
    "ax3.set_title('node_19')\n",
    "ax3.imshow(block_img[19])\n",
    "\n",
    "\n",
    "f, (ax1, ax2, ax3, ax4) = plt.subplots(1, 4, figsize=(5,5))\n",
    "ax1.set_title('node_20')\n",
    "ax1.imshow(block_img[20])\n",
    "ax2.set_title('node_21')\n",
    "ax2.imshow(block_img[21])\n",
    "ax3.set_title('node_22')\n",
    "ax3.imshow(block_img[22])\n",
    "ax4.set_title('node_23')\n",
    "ax4.imshow(block_img[23])\n",
    "\n",
    "hsv = cv2.cvtColor(block_img[23], cv2.COLOR_RGB2HSV)\n",
    "# HSV channels\n",
    "h = hsv[:,:,0]\n",
    "s = hsv[:,:,1]\n",
    "v = hsv[:,:,2]\n",
    "\n",
    "# Plot the original image and the three channels\n",
    "f, ( ax2, ax3, ax4) = plt.subplots(1, 3, figsize=(20,10))\n",
    "ax2.set_title('H channel')\n",
    "ax2.imshow(h, cmap='gray')\n",
    "ax3.set_title('S channel')\n",
    "ax3.imshow(s, cmap='gray')\n",
    "ax4.set_title('V channel')\n",
    "ax4.imshow(v, cmap='gray')"
   ]
  }
 ],
 "metadata": {
  "kernelspec": {
   "display_name": "Python 3",
   "language": "python",
   "name": "python3"
  },
  "language_info": {
   "codemirror_mode": {
    "name": "ipython",
    "version": 3
   },
   "file_extension": ".py",
   "mimetype": "text/x-python",
   "name": "python",
   "nbconvert_exporter": "python",
   "pygments_lexer": "ipython3",
   "version": "3.6.8"
  }
 },
 "nbformat": 4,
 "nbformat_minor": 2
}
