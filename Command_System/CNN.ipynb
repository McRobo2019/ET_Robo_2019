{
 "cells": [
  {
   "cell_type": "code",
   "execution_count": 32,
   "metadata": {},
   "outputs": [],
   "source": [
    "from sklearn.datasets import load_files       \n",
    "from keras.utils import np_utils\n",
    "import numpy as np\n",
    "from glob import glob\n"
   ]
  },
  {
   "cell_type": "code",
   "execution_count": 33,
   "metadata": {},
   "outputs": [],
   "source": [
    "# define function to load train, test, and validation datasets\n",
    "def load_dataset(path):\n",
    "    data = load_files(path)\n",
    "    block_files = np.array(data['filenames'])\n",
    "    block_targets = np_utils.to_categorical(np.array(data['target']), 6)\n",
    "    return block_files, block_targets"
   ]
  },
  {
   "cell_type": "code",
   "execution_count": 34,
   "metadata": {},
   "outputs": [],
   "source": [
    "# load train, test, and validation datasets\n",
    "train_files, train_targets = load_dataset('block_image/train')\n",
    "valid_files, valid_targets = load_dataset('block_image/valid')\n",
    "test_files, test_targets = load_dataset('block_image/test')"
   ]
  },
  {
   "cell_type": "code",
   "execution_count": 35,
   "metadata": {},
   "outputs": [
    {
     "name": "stdout",
     "output_type": "stream",
     "text": [
      "There are 6 total block categories.\n",
      "There are 1080 total block images.\n",
      "\n",
      "There are 989 training block images.\n",
      "There are 61 validation block images.\n",
      "There are 30 test block images.\n"
     ]
    }
   ],
   "source": [
    "# load list of dog names\n",
    "block_names = [item[20:-1] for item in sorted(glob(\"block_image/train/*/\"))]\n",
    "\n",
    "# print statistics about the dataset\n",
    "print('There are %d total block categories.' % len(block_names))\n",
    "print('There are %s total block images.\\n' % len(np.hstack([train_files, valid_files, test_files])))\n",
    "print('There are %d training block images.' % len(train_files))\n",
    "print('There are %d validation block images.' % len(valid_files))\n",
    "print('There are %d test block images.'% len(test_files))"
   ]
  },
  {
   "cell_type": "code",
   "execution_count": 36,
   "metadata": {},
   "outputs": [],
   "source": [
    "from keras.preprocessing import image                  \n",
    "from tqdm import tqdm\n",
    "\n",
    "def path_to_tensor(img_path):\n",
    "    # loads RGB image as PIL.Image.Image type\n",
    "    img = image.load_img(img_path, target_size=(224, 224))\n",
    "    # convert PIL.Image.Image type to 3D tensor with shape (224, 224, 3)\n",
    "    x = image.img_to_array(img)\n",
    "    # convert 3D tensor to 4D tensor with shape (1, 224, 224, 3) and return 4D tensor\n",
    "    return np.expand_dims(x, axis=0)\n",
    "\n",
    "def paths_to_tensor(img_paths):\n",
    "    list_of_tensors = [path_to_tensor(img_path) for img_path in tqdm(img_paths)]\n",
    "    return np.vstack(list_of_tensors)"
   ]
  },
  {
   "cell_type": "code",
   "execution_count": 37,
   "metadata": {},
   "outputs": [
    {
     "data": {
      "text/plain": [
       "array(['block_image/train/000.none/block_010912462113.jpg',\n",
       "       'block_image/train/000.none/block_010912462615.jpg',\n",
       "       'block_image/train/000.none/block_0109124517.jpg',\n",
       "       'block_image/train/000.none/block_01091246264.jpg',\n",
       "       'block_image/train/000.none/block_010912474417.jpg',\n",
       "       'block_image/train/005.gray/block_01091246160.jpg',\n",
       "       'block_image/train/001.red/block_010912473118.jpg',\n",
       "       'block_image/train/003.blue/block_010912474115.jpg',\n",
       "       'block_image/train/000.none/block_01091246272.jpg',\n",
       "       'block_image/train/003.blue/block_01091245211.jpg'], dtype='<U51')"
      ]
     },
     "execution_count": 37,
     "metadata": {},
     "output_type": "execute_result"
    }
   ],
   "source": [
    "train_files[:10]"
   ]
  },
  {
   "cell_type": "code",
   "execution_count": 38,
   "metadata": {},
   "outputs": [
    {
     "name": "stderr",
     "output_type": "stream",
     "text": [
      "100%|██████████| 989/989 [00:05<00:00, 195.21it/s]\n",
      "100%|██████████| 61/61 [00:00<00:00, 641.40it/s]\n",
      "100%|██████████| 30/30 [00:00<00:00, 586.57it/s]\n"
     ]
    }
   ],
   "source": [
    "from PIL import ImageFile                            \n",
    "ImageFile.LOAD_TRUNCATED_IMAGES = True                 \n",
    "\n",
    "# pre-process the data for Keras\n",
    "train_tensors = paths_to_tensor(train_files).astype('float32')/255\n",
    "valid_tensors = paths_to_tensor(valid_files).astype('float32')/255\n",
    "test_tensors = paths_to_tensor(test_files).astype('float32')/255\n",
    "\n"
   ]
  },
  {
   "cell_type": "code",
   "execution_count": 39,
   "metadata": {},
   "outputs": [
    {
     "name": "stdout",
     "output_type": "stream",
     "text": [
      "_________________________________________________________________\n",
      "Layer (type)                 Output Shape              Param #   \n",
      "=================================================================\n",
      "conv2d_7 (Conv2D)            (None, 223, 223, 16)      208       \n",
      "_________________________________________________________________\n",
      "max_pooling2d_7 (MaxPooling2 (None, 111, 111, 16)      0         \n",
      "_________________________________________________________________\n",
      "conv2d_8 (Conv2D)            (None, 110, 110, 32)      2080      \n",
      "_________________________________________________________________\n",
      "max_pooling2d_8 (MaxPooling2 (None, 55, 55, 32)        0         \n",
      "_________________________________________________________________\n",
      "conv2d_9 (Conv2D)            (None, 54, 54, 64)        8256      \n",
      "_________________________________________________________________\n",
      "max_pooling2d_9 (MaxPooling2 (None, 27, 27, 64)        0         \n",
      "_________________________________________________________________\n",
      "global_average_pooling2d_3 ( (None, 64)                0         \n",
      "_________________________________________________________________\n",
      "dense_3 (Dense)              (None, 6)                 390       \n",
      "=================================================================\n",
      "Total params: 10,934\n",
      "Trainable params: 10,934\n",
      "Non-trainable params: 0\n",
      "_________________________________________________________________\n"
     ]
    }
   ],
   "source": [
    "from keras.layers import Conv2D, MaxPooling2D, GlobalAveragePooling2D\n",
    "from keras.layers import Dropout, Flatten, Dense\n",
    "from keras.models import Sequential\n",
    "\n",
    "model = Sequential()\n",
    "\n",
    "\n",
    "model.add( Conv2D(16,  kernel_size = (2, 2),  input_shape=(224, 224, 3), activation = 'relu', strides = 1, padding = 'valid'))\n",
    "model.add( MaxPooling2D(pool_size = (2, 2),  strides = 2))\n",
    "model.add( Conv2D(32, kernel_size = (2, 2),  activation = 'relu', strides = 1, padding = 'valid'))\n",
    "model.add( MaxPooling2D(pool_size = (2, 2),  strides = 2))\n",
    "model.add( Conv2D(64, kernel_size = (2, 2),  activation = 'relu', strides = 1, padding = 'valid'))\n",
    "model.add( MaxPooling2D(pool_size = (2, 2),  strides = 2))\n",
    "model.add( GlobalAveragePooling2D())\n",
    "model.add( Dense(units = 6, activation = 'softmax'))\n",
    "\n",
    "model.summary()"
   ]
  },
  {
   "cell_type": "code",
   "execution_count": 40,
   "metadata": {},
   "outputs": [],
   "source": [
    "model.compile(optimizer='rmsprop', loss='categorical_crossentropy', metrics=['accuracy'])"
   ]
  },
  {
   "cell_type": "code",
   "execution_count": 41,
   "metadata": {},
   "outputs": [
    {
     "name": "stdout",
     "output_type": "stream",
     "text": [
      "Train on 989 samples, validate on 61 samples\n",
      "Epoch 1/5\n",
      "989/989 [==============================] - 33s 33ms/step - loss: 0.9542 - acc: 0.7270 - val_loss: 2.2133 - val_acc: 0.1803\n",
      "\n",
      "Epoch 00001: val_loss improved from inf to 2.21335, saving model to saved_models/weights.best.from_scratch.hdf5\n",
      "Epoch 2/5\n",
      "989/989 [==============================] - 30s 30ms/step - loss: 0.8647 - acc: 0.7361 - val_loss: 2.5010 - val_acc: 0.1803\n",
      "\n",
      "Epoch 00002: val_loss did not improve from 2.21335\n",
      "Epoch 3/5\n",
      "989/989 [==============================] - 25s 25ms/step - loss: 0.8058 - acc: 0.7371 - val_loss: 2.3672 - val_acc: 0.1803\n",
      "\n",
      "Epoch 00003: val_loss did not improve from 2.21335\n",
      "Epoch 4/5\n",
      "989/989 [==============================] - 24s 25ms/step - loss: 0.7287 - acc: 0.7674 - val_loss: 1.9483 - val_acc: 0.2951\n",
      "\n",
      "Epoch 00004: val_loss improved from 2.21335 to 1.94827, saving model to saved_models/weights.best.from_scratch.hdf5\n",
      "Epoch 5/5\n",
      "989/989 [==============================] - 25s 25ms/step - loss: 0.6610 - acc: 0.7816 - val_loss: 1.6586 - val_acc: 0.3934\n",
      "\n",
      "Epoch 00005: val_loss improved from 1.94827 to 1.65861, saving model to saved_models/weights.best.from_scratch.hdf5\n"
     ]
    },
    {
     "data": {
      "text/plain": [
       "<keras.callbacks.History at 0x1a43929208>"
      ]
     },
     "execution_count": 41,
     "metadata": {},
     "output_type": "execute_result"
    }
   ],
   "source": [
    "from keras.callbacks import ModelCheckpoint  \n",
    "\n",
    "epochs = 5\n",
    "\n",
    "\n",
    "checkpointer = ModelCheckpoint(filepath='saved_models/weights.best.from_scratch.hdf5', \n",
    "                               verbose=1, save_best_only=True)\n",
    "\n",
    "model.fit(train_tensors, train_targets, \n",
    "          validation_data=(valid_tensors, valid_targets),\n",
    "          epochs=epochs, batch_size=20, callbacks=[checkpointer], verbose=1)"
   ]
  },
  {
   "cell_type": "code",
   "execution_count": 42,
   "metadata": {},
   "outputs": [],
   "source": [
    "\n",
    "model.load_weights('saved_models/weights.best.from_scratch.hdf5')"
   ]
  },
  {
   "cell_type": "code",
   "execution_count": 72,
   "metadata": {},
   "outputs": [
    {
     "name": "stderr",
     "output_type": "stream",
     "text": [
      "\n",
      "\n",
      "  0%|          | 0/3 [00:00<?, ?it/s]\u001b[A\u001b[A\n",
      "\n",
      "100%|██████████| 3/3 [00:00<00:00, 501.03it/s]\u001b[A\u001b[A"
     ]
    }
   ],
   "source": [
    "data = load_files('block_image/input')\n",
    "input_files = np.array(data['filenames'])\n",
    "input_tensors = paths_to_tensor(input_files).astype('float32')/255"
   ]
  },
  {
   "cell_type": "code",
   "execution_count": 73,
   "metadata": {},
   "outputs": [
    {
     "data": {
      "text/plain": [
       "array([[0.30650052, 0.16180253, 0.17130686, 0.20741056, 0.08353481,\n",
       "        0.0694447 ],\n",
       "       [0.05742539, 0.7942814 , 0.0434706 , 0.01336617, 0.074697  ,\n",
       "        0.01675936],\n",
       "       [0.17309605, 0.68421966, 0.04351623, 0.02496198, 0.05300141,\n",
       "        0.0212047 ]], dtype=float32)"
      ]
     },
     "execution_count": 73,
     "metadata": {},
     "output_type": "execute_result"
    }
   ],
   "source": [
    "#input_tensors\n",
    "model.predict_proba(input_tensors, batch_size = 2)\n",
    "\n"
   ]
  },
  {
   "cell_type": "code",
   "execution_count": 21,
   "metadata": {},
   "outputs": [
    {
     "name": "stdout",
     "output_type": "stream",
     "text": [
      "[1, 0, 0, 0, 0, 1, 0, 0, 0, 1, 1, 0, 1, 0, 1, 1, 0, 1, 1, 0, 3, 0, 0, 1, 1, 0, 0, 1, 0, 0]\n",
      "Test accuracy: 30.0000%\n"
     ]
    }
   ],
   "source": [
    "# get index of predicted dog breed for each image in test set\n",
    "block_predictions = [np.argmax(model.predict(np.expand_dims(tensor, axis=0))) for tensor in test_tensors]\n",
    "\n",
    "# report test accuracy\n",
    "test_accuracy = 100*np.sum(np.array(block_predictions)==np.argmax(test_targets, axis=1))/len(block_predictions)\n",
    "print('Test accuracy: %.4f%%' % test_accuracy)"
   ]
  }
 ],
 "metadata": {
  "kernelspec": {
   "display_name": "Python 3",
   "language": "python",
   "name": "python3"
  },
  "language_info": {
   "codemirror_mode": {
    "name": "ipython",
    "version": 3
   },
   "file_extension": ".py",
   "mimetype": "text/x-python",
   "name": "python",
   "nbconvert_exporter": "python",
   "pygments_lexer": "ipython3",
   "version": "3.6.8"
  }
 },
 "nbformat": 4,
 "nbformat_minor": 2
}
